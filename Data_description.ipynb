{
 "cells": [
  {
   "cell_type": "code",
   "execution_count": null,
   "id": "beb69fd3",
   "metadata": {},
   "outputs": [],
   "source": [
    "library(data.table)\n",
    "\n",
    "cow <- fread(\"C:/Users/Lenovo/Desktop/STUDIA/BIOINFORMATYKA/PRACA_LICENCJACKA/Run9-TAUINDraw-animalDistributionList-20210630.csv\")"
   ]
  },
  {
   "cell_type": "code",
   "execution_count": null,
   "id": "522372a4",
   "metadata": {},
   "outputs": [],
   "source": [
    "# creating pie chart of samples per species -----------------------------------------------------------------\n",
    "unique(cow$Species)\n",
    "Taurus <- cow$Species[cow$Species == 'Taurus']\n",
    "TaurusXIndicus <- cow$Species[cow$Species == 'TaurusXIndicus']\n",
    "Indicus <- cow$Species[cow$Species == 'Indicus']\n",
    "other <- cow$Species[cow$Species == 'other']\n",
    "auroch <- cow$Species[cow$Species == 'auroch']\n",
    "ancient <- cow$Species[cow$Species == 'ancient']\n",
    "unknown <- cow$Species[cow$Species == 'unknown']\n",
    "other <- length(Indicus)+length(other)+length(auroch)+length(ancient)+length(unknown)\n",
    "SNP_per_species <- c(length(Taurus), length(TaurusXIndicus), length(Indicus), other)\n",
    "slices <- SNP_per_species\n",
    "names <- c('Taurus', 'TaurusXIndicus', 'Indicus', 'other')\n",
    "new_DF <- data.frame(names, SNP_per_species, stringsAsFactors = FALSE)\n",
    "label <- paste0(new_DF$names, \" \", round(new_DF$SNP_per_species/sum(new_DF$SNP_per_species)*100, digits = 1),\"%\")\n",
    "pie(slices, labels = label, col = c(\"blue1\", \"red1\", \"green\", \"grey\"), cex = 0.7)"
   ]
  },
  {
   "cell_type": "code",
   "execution_count": null,
   "id": "f800a4c3",
   "metadata": {},
   "outputs": [],
   "source": [
    "# creating pie chart of samples per breed within a species ----------------------------------------------------------------------------------\n",
    "\n",
    "Tau <- cow[cow$Species == 'Taurus',]\n",
    "Ind <- cow[cow$Species == 'Indicus',]\n",
    "TauInd <- cow[cow$Species == 'TaurusXIndicus',]"
   ]
  },
  {
   "cell_type": "code",
   "execution_count": null,
   "id": "3c94cfdd",
   "metadata": {},
   "outputs": [],
   "source": [
    "# Taurus ----------------------------------------------------------------------------------------------------\n",
    "\n",
    "TauBreedNames <- unique(Tau$Breed)\n",
    "TauBreedCounts <- vector(mode = \"numeric\", length = length(TauBreedNames))\n",
    "\n",
    "\n",
    "for(i in 1:length(TauBreedNames))\n",
    "{\n",
    "  count <- nrow(Tau[Tau$Breed == TauBreedNames[i]])\n",
    "  TauBreedCounts[i] <- count\n",
    "}\n",
    "\n",
    "TauBreedDF <- data.frame(TauBreedNames, TauBreedCounts, stringsAsFactors = FALSE)\n",
    "\n",
    "TauBreedDF$TauBreedNames[TauBreedDF$TauBreedCounts < 100] <- 'other'  # only breeds with more than 100 samples\n",
    "\n",
    "subsetDF <- TauBreedDF[TauBreedDF$TauBreedNames != 'other',]\n",
    "\n",
    "head(subsetDF)\n",
    "TauBreedNames2 <- unique(subsetDF$TauBreedNames)\n",
    "TauBreedCounts2 <- vector(mode = \"numeric\", length = length(TauBreedNames2))\n",
    "\n",
    "label <- paste0(subsetDF$TauBreedNames, \" \", round(subsetDF$TauBreedCounts/sum(subsetDF$TauBreedCounts)*100, digits = 1),\"%\")\n",
    "\n",
    "\n",
    "pie(subsetDF$TauBreedCounts, labels = label, cex = 0.7)"
   ]
  },
  {
   "cell_type": "code",
   "execution_count": null,
   "id": "5c300146",
   "metadata": {},
   "outputs": [],
   "source": [
    "# Indicus ----------------------------------------------------------------------------------------------------\n",
    "\n",
    "IndBreedNames <- unique(Ind$Breed)\n",
    "IndBreedCounts <- vector(mode = \"numeric\", length = length(IndBreedNames))\n",
    "\n",
    "\n",
    "for(i in 1:length(IndBreedNames))\n",
    "{\n",
    "  count <- nrow(Ind[Ind$Breed == IndBreedNames[i]])\n",
    "  IndBreedCounts[i] <- count\n",
    "}\n",
    "\n",
    "IndBreedDF <- data.frame(IndBreedNames, IndBreedCounts, stringsAsFactors = FALSE)\n",
    "\n",
    "\n",
    "IndBreedDF$IndBreedNames[IndBreedDF$IndBreedCounts < 13] <- 'other'  # only breeds with more than 13 (mean) samples\n",
    "\n",
    "subsetDF <- IndBreedDF[IndBreedDF$IndBreedNames != 'other',]\n",
    "\n",
    "head(subsetDF)\n",
    "IndBreedNames2 <- unique(subsetDF$IndBreedNames)\n",
    "IndBreedCounts2 <- vector(mode = \"numeric\", length = length(IndBreedNames2))\n",
    "\n",
    "label <- paste0(subsetDF$IndBreedNames, \" \", round(subsetDF$IndBreedCounts/sum(subsetDF$IndBreedCounts)*100, digits = 1),\"%\")\n",
    "\n",
    "\n",
    "pie(subsetDF$IndBreedCounts, labels = label, cex = 0.7)"
   ]
  },
  {
   "cell_type": "code",
   "execution_count": null,
   "id": "01eca372",
   "metadata": {},
   "outputs": [],
   "source": [
    "# Taurus x Indicus ----------------------------------------------------------------------------------------------------\n",
    "\n",
    "TauIndBreedNames <- unique(TauInd$Breed)\n",
    "TauIndBreedCounts <- vector(mode = \"numeric\", length = length(TauIndBreedNames))\n",
    "\n",
    "\n",
    "for(i in 1:length(TauIndBreedNames))\n",
    "{\n",
    "  count <- nrow(TauInd[TauInd$Breed == TauIndBreedNames[i]])\n",
    "  TauIndBreedCounts[i] <- count\n",
    "}\n",
    "\n",
    "TauIndBreedDF <- data.frame(TauIndBreedNames, TauIndBreedCounts, stringsAsFactors = FALSE)\n",
    "\n",
    "TauIndBreedDF$TauIndBreedNames[TauIndBreedDF$TauIndBreedCounts < 7] <- 'other'  # only breeds with more than 13 (mean) samples\n",
    "\n",
    "subsetDF <- TauIndBreedDF[TauIndBreedDF$TauIndBreedNames != 'other',]\n",
    "\n",
    "head(subsetDF)\n",
    "TauIndBreedNames2 <- unique(subsetDF$TauIndBreedNames)\n",
    "TauIndBreedCounts2 <- vector(mode = \"numeric\", length = length(TauIndBreedNames2))\n",
    "\n",
    "label <- paste0(subsetDF$TauIndBreedNames, \" \", round(subsetDF$TauIndBreedCounts/sum(subsetDF$TauIndBreedCounts)*100, digits = 1),\"%\")\n",
    "\n",
    "pie(subsetDF$TauIndBreedCounts, labels = label, cex = 0.7)"
   ]
  },
  {
   "cell_type": "code",
   "execution_count": 30,
   "id": "7863fc1d",
   "metadata": {},
   "outputs": [
    {
     "data": {
      "text/html": [
       "<table>\n",
       "<thead><tr><th scope=col>Chromosome</th><th scope=col>Number of Samples</th><th scope=col>Number records</th><th scope=col>SNPs</th><th scope=col>INDELs</th><th scope=col>Others</th><th scope=col>Multiallelic sites</th><th scope=col>Multiallelic SNP sites</th></tr></thead>\n",
       "<tbody>\n",
       "\t<tr><td>1       </td><td>6191    </td><td>10551565</td><td>9383914 </td><td>1298585 </td><td>117847  </td><td>772638  </td><td>410254  </td></tr>\n",
       "\t<tr><td>2       </td><td>6191    </td><td> 8760857</td><td>7787682 </td><td>1079935 </td><td> 97069  </td><td>631587  </td><td>335197  </td></tr>\n",
       "\t<tr><td>3       </td><td>6191    </td><td> 7664267</td><td>6825051 </td><td> 930132 </td><td> 80915  </td><td>538978  </td><td>288718  </td></tr>\n",
       "\t<tr><td>4       </td><td>6191    </td><td> 8038516</td><td>7141619 </td><td>1001539 </td><td> 92529  </td><td>610548  </td><td>327761  </td></tr>\n",
       "\t<tr><td>5       </td><td>6191    </td><td> 7809469</td><td>6944342 </td><td> 963565 </td><td> 91817  </td><td>584473  </td><td>311101  </td></tr>\n",
       "\t<tr><td>6       </td><td>6191    </td><td> 8030886</td><td>7142028 </td><td> 989581 </td><td> 90690  </td><td>591897  </td><td>314212  </td></tr>\n",
       "</tbody>\n",
       "</table>\n"
      ],
      "text/latex": [
       "\\begin{tabular}{r|llllllll}\n",
       " Chromosome & Number of Samples & Number records & SNPs & INDELs & Others & Multiallelic sites & Multiallelic SNP sites\\\\\n",
       "\\hline\n",
       "\t 1        & 6191     & 10551565 & 9383914  & 1298585  & 117847   & 772638   & 410254  \\\\\n",
       "\t 2        & 6191     &  8760857 & 7787682  & 1079935  &  97069   & 631587   & 335197  \\\\\n",
       "\t 3        & 6191     &  7664267 & 6825051  &  930132  &  80915   & 538978   & 288718  \\\\\n",
       "\t 4        & 6191     &  8038516 & 7141619  & 1001539  &  92529   & 610548   & 327761  \\\\\n",
       "\t 5        & 6191     &  7809469 & 6944342  &  963565  &  91817   & 584473   & 311101  \\\\\n",
       "\t 6        & 6191     &  8030886 & 7142028  &  989581  &  90690   & 591897   & 314212  \\\\\n",
       "\\end{tabular}\n"
      ],
      "text/markdown": [
       "\n",
       "| Chromosome | Number of Samples | Number records | SNPs | INDELs | Others | Multiallelic sites | Multiallelic SNP sites |\n",
       "|---|---|---|---|---|---|---|---|\n",
       "| 1        | 6191     | 10551565 | 9383914  | 1298585  | 117847   | 772638   | 410254   |\n",
       "| 2        | 6191     |  8760857 | 7787682  | 1079935  |  97069   | 631587   | 335197   |\n",
       "| 3        | 6191     |  7664267 | 6825051  |  930132  |  80915   | 538978   | 288718   |\n",
       "| 4        | 6191     |  8038516 | 7141619  | 1001539  |  92529   | 610548   | 327761   |\n",
       "| 5        | 6191     |  7809469 | 6944342  |  963565  |  91817   | 584473   | 311101   |\n",
       "| 6        | 6191     |  8030886 | 7142028  |  989581  |  90690   | 591897   | 314212   |\n",
       "\n"
      ],
      "text/plain": [
       "  Chromosome Number of Samples Number records SNPs    INDELs  Others\n",
       "1 1          6191              10551565       9383914 1298585 117847\n",
       "2 2          6191               8760857       7787682 1079935  97069\n",
       "3 3          6191               7664267       6825051  930132  80915\n",
       "4 4          6191               8038516       7141619 1001539  92529\n",
       "5 5          6191               7809469       6944342  963565  91817\n",
       "6 6          6191               8030886       7142028  989581  90690\n",
       "  Multiallelic sites Multiallelic SNP sites\n",
       "1 772638             410254                \n",
       "2 631587             335197                \n",
       "3 538978             288718                \n",
       "4 610548             327761                \n",
       "5 584473             311101                \n",
       "6 591897             314212                "
      ]
     },
     "metadata": {},
     "output_type": "display_data"
    },
    {
     "data": {
      "text/html": [
       "<ol class=list-inline>\n",
       "\t<li>'1'</li>\n",
       "\t<li>'2'</li>\n",
       "\t<li>'3'</li>\n",
       "\t<li>'4'</li>\n",
       "\t<li>'5'</li>\n",
       "\t<li>'6'</li>\n",
       "\t<li>'7'</li>\n",
       "\t<li>'8'</li>\n",
       "\t<li>'9'</li>\n",
       "\t<li>'10'</li>\n",
       "\t<li>'11'</li>\n",
       "\t<li>'12'</li>\n",
       "\t<li>'13'</li>\n",
       "\t<li>'14'</li>\n",
       "\t<li>'15'</li>\n",
       "\t<li>'16'</li>\n",
       "\t<li>'17'</li>\n",
       "\t<li>'18'</li>\n",
       "\t<li>'19'</li>\n",
       "\t<li>'20'</li>\n",
       "\t<li>'21'</li>\n",
       "\t<li>'22'</li>\n",
       "\t<li>'23'</li>\n",
       "\t<li>'24'</li>\n",
       "\t<li>'25'</li>\n",
       "\t<li>'26'</li>\n",
       "\t<li>'27'</li>\n",
       "\t<li>'28'</li>\n",
       "\t<li>'29'</li>\n",
       "\t<li>'X'</li>\n",
       "\t<li>'Y'</li>\n",
       "\t<li>'MT'</li>\n",
       "</ol>\n"
      ],
      "text/latex": [
       "\\begin{enumerate*}\n",
       "\\item '1'\n",
       "\\item '2'\n",
       "\\item '3'\n",
       "\\item '4'\n",
       "\\item '5'\n",
       "\\item '6'\n",
       "\\item '7'\n",
       "\\item '8'\n",
       "\\item '9'\n",
       "\\item '10'\n",
       "\\item '11'\n",
       "\\item '12'\n",
       "\\item '13'\n",
       "\\item '14'\n",
       "\\item '15'\n",
       "\\item '16'\n",
       "\\item '17'\n",
       "\\item '18'\n",
       "\\item '19'\n",
       "\\item '20'\n",
       "\\item '21'\n",
       "\\item '22'\n",
       "\\item '23'\n",
       "\\item '24'\n",
       "\\item '25'\n",
       "\\item '26'\n",
       "\\item '27'\n",
       "\\item '28'\n",
       "\\item '29'\n",
       "\\item 'X'\n",
       "\\item 'Y'\n",
       "\\item 'MT'\n",
       "\\end{enumerate*}\n"
      ],
      "text/markdown": [
       "1. '1'\n",
       "2. '2'\n",
       "3. '3'\n",
       "4. '4'\n",
       "5. '5'\n",
       "6. '6'\n",
       "7. '7'\n",
       "8. '8'\n",
       "9. '9'\n",
       "10. '10'\n",
       "11. '11'\n",
       "12. '12'\n",
       "13. '13'\n",
       "14. '14'\n",
       "15. '15'\n",
       "16. '16'\n",
       "17. '17'\n",
       "18. '18'\n",
       "19. '19'\n",
       "20. '20'\n",
       "21. '21'\n",
       "22. '22'\n",
       "23. '23'\n",
       "24. '24'\n",
       "25. '25'\n",
       "26. '26'\n",
       "27. '27'\n",
       "28. '28'\n",
       "29. '29'\n",
       "30. 'X'\n",
       "31. 'Y'\n",
       "32. 'MT'\n",
       "\n",
       "\n"
      ],
      "text/plain": [
       " [1] \"1\"  \"2\"  \"3\"  \"4\"  \"5\"  \"6\"  \"7\"  \"8\"  \"9\"  \"10\" \"11\" \"12\" \"13\" \"14\" \"15\"\n",
       "[16] \"16\" \"17\" \"18\" \"19\" \"20\" \"21\" \"22\" \"23\" \"24\" \"25\" \"26\" \"27\" \"28\" \"29\" \"X\" \n",
       "[31] \"Y\"  \"MT\""
      ]
     },
     "metadata": {},
     "output_type": "display_data"
    },
    {
     "name": "stdout",
     "output_type": "stream",
     "text": [
      "[1] -1431673\n"
     ]
    }
   ],
   "source": [
    "library(data.table)\n",
    "\n",
    "stat <- fread(\"C:/Users/Lenovo/Desktop/STUDIA/BIOINFORMATYKA/PRACA_LICENCJACKA/stats_per_chromosome.csv\")\n",
    "\n",
    "head(stat)\n",
    "head(unique(stat$Chromosome), -1)\n",
    "\n",
    "total_location <- which(stat[,1] == 'Total', arr.ind=TRUE)[1]\n",
    "\n",
    "x <- 10551565 - (9383914+1298585+117847+772638+410254)\n",
    "print(x)"
   ]
  },
  {
   "cell_type": "code",
   "execution_count": 24,
   "id": "d598ea03",
   "metadata": {},
   "outputs": [
    {
     "data": {
      "image/png": "[encoded data removed]",
      "text/plain": [
       "plot without title"
      ]
     },
     "metadata": {},
     "output_type": "display_data"
    }
   ],
   "source": [
    "# SNPs per chromosome------------------------------------------------------------------------------------------------\n",
    "\n",
    "#install.packages('readr')\n",
    "#install.packages('ggplot2')\n",
    "\n",
    "library(readr)\n",
    "library(ggplot2)\n",
    "\n",
    "total_location <- which(stat[,1] == 'Total', arr.ind=TRUE)[1]\n",
    "\n",
    "\n",
    "plot1 <- ggplot(stat[-total_location,], aes(x = factor(Chromosome, level = head(unique(stat$Chromosome),-1) ), y = SNPs)) + \n",
    "  geom_bar(stat = \"identity\")\n",
    "\n",
    "plot1 + labs(x =\"chromosome\", y = \"number of SNPs\")\n",
    "\n"
   ]
  },
  {
   "cell_type": "code",
   "execution_count": 27,
   "id": "5bdb070e",
   "metadata": {},
   "outputs": [
    {
     "data": {
      "image/png": "[encoded data removed]",
      "text/plain": [
       "plot without title"
      ]
     },
     "metadata": {},
     "output_type": "display_data"
    }
   ],
   "source": [
    "# INDELs per chromosome------------------------------------------------------------------------------------------------\n",
    "\n",
    "#install.packages('readr')\n",
    "#install.packages('ggplot2')\n",
    "\n",
    "library(readr)\n",
    "library(ggplot2)\n",
    "\n",
    "total_location <- which(stat[,1] == 'Total', arr.ind=TRUE)[1]\n",
    "\n",
    "\n",
    "plot2 <- ggplot(stat[-total_location,], aes(x = factor(Chromosome, level = head(unique(stat$Chromosome),-1) ), y = INDELs)) + \n",
    "  geom_bar(stat = \"identity\")\n",
    "\n",
    "plot2 + labs(x =\"chromosome\", y = \"number of INDELs\")\n",
    "\n"
   ]
  }
 ],
 "metadata": {
  "kernelspec": {
   "display_name": "R",
   "language": "R",
   "name": "ir"
  },
  "language_info": {
   "codemirror_mode": "r",
   "file_extension": ".r",
   "mimetype": "text/x-r-source",
   "name": "R",
   "pygments_lexer": "r",
   "version": "3.6.1"
  }
 },
 "nbformat": 4,
 "nbformat_minor": 5
}
